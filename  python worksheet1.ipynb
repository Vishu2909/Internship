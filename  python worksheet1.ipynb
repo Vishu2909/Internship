{
 "cells": [
  {
   "cell_type": "code",
   "execution_count": 1,
   "id": "98f19187",
   "metadata": {},
   "outputs": [],
   "source": [
    "# Show the factorial Number"
   ]
  },
  {
   "cell_type": "code",
   "execution_count": 2,
   "id": "b4fe86ea",
   "metadata": {},
   "outputs": [],
   "source": [
    "def factorial (n):\n",
    "    if n < 0:\n",
    "        return 0\n",
    "    elif n == 0 or n ==1:\n",
    "        return 1\n",
    "    else:\n",
    "        fact = 1\n",
    "        while (n > 1):\n",
    "            fact *= n\n",
    "            n -= 1\n",
    "        return fact"
   ]
  },
  {
   "cell_type": "code",
   "execution_count": 3,
   "id": "43bb52e7",
   "metadata": {},
   "outputs": [
    {
     "data": {
      "text/plain": [
       "40320"
      ]
     },
     "execution_count": 3,
     "metadata": {},
     "output_type": "execute_result"
    }
   ],
   "source": [
    "factorial(8)"
   ]
  },
  {
   "cell_type": "code",
   "execution_count": 4,
   "id": "3ca2d0f8",
   "metadata": {},
   "outputs": [],
   "source": [
    "# Native method of checkin for prime numbers."
   ]
  },
  {
   "cell_type": "code",
   "execution_count": 6,
   "id": "16fa2e3f",
   "metadata": {},
   "outputs": [],
   "source": [
    "def is_prime(num):\n",
    "    for n in range (2,num):\n",
    "        if num % n == 0:\n",
    "            print (\"Not Prime\")\n",
    "            break\n",
    "    else:\n",
    "        print (\"Prime\")"
   ]
  },
  {
   "cell_type": "code",
   "execution_count": 7,
   "id": "8acc0068",
   "metadata": {},
   "outputs": [
    {
     "name": "stdout",
     "output_type": "stream",
     "text": [
      "Not Prime\n"
     ]
    }
   ],
   "source": [
    "is_prime(9)"
   ]
  },
  {
   "cell_type": "code",
   "execution_count": null,
   "id": "91c0ec5f",
   "metadata": {},
   "outputs": [],
   "source": [
    "# Prime Or Composite Number"
   ]
  },
  {
   "cell_type": "code",
   "execution_count": 16,
   "id": "dfa0dcdd",
   "metadata": {},
   "outputs": [],
   "source": [
    "def is_prime (num):\n",
    "    if num > 1:\n",
    "        for i in range (2,num):\n",
    "            if num % i == 0:\n",
    "                print (\"not prime\")\n",
    "                break\n",
    "        else:\n",
    "            print (\"Prime Number\")\n",
    "    elif num == 0 or 1:\n",
    "         print (\"Neither Prime Nor Composite Number\")\n",
    "    else:\n",
    "         print (\"Not a Prime Number it is a Composite Number\")"
   ]
  },
  {
   "cell_type": "code",
   "execution_count": 17,
   "id": "c2143038",
   "metadata": {},
   "outputs": [
    {
     "name": "stdout",
     "output_type": "stream",
     "text": [
      "not prime\n"
     ]
    }
   ],
   "source": [
    "is_prime(4)"
   ]
  },
  {
   "cell_type": "code",
   "execution_count": null,
   "id": "28d4d546",
   "metadata": {},
   "outputs": [],
   "source": [
    "#function to check string is palindrome or not"
   ]
  },
  {
   "cell_type": "code",
   "execution_count": 21,
   "id": "6a36536b",
   "metadata": {},
   "outputs": [
    {
     "name": "stdout",
     "output_type": "stream",
     "text": [
      "Yes\n"
     ]
    }
   ],
   "source": [
    "def isPalindrome(s):\n",
    "    return s == s [::-1]\n",
    "s = \"madam\"\n",
    "ans = isPalindrome(s)\n",
    "if ans:\n",
    "    print (\"Yes\")\n",
    "else:\n",
    "    print (\"no\")"
   ]
  },
  {
   "cell_type": "code",
   "execution_count": 22,
   "id": "a9b51a1d",
   "metadata": {},
   "outputs": [
    {
     "name": "stdout",
     "output_type": "stream",
     "text": [
      "No\n"
     ]
    }
   ],
   "source": [
    "def isPalindrome(i):\n",
    "    return i == i [::-2]\n",
    "i = \"apple\"\n",
    "ans = isPalindrome(i)\n",
    "if ans:\n",
    "    print (\"Yes\")\n",
    "else:\n",
    "    print (\"No\")"
   ]
  },
  {
   "cell_type": "code",
   "execution_count": null,
   "id": "6a79ad8b",
   "metadata": {},
   "outputs": [],
   "source": [
    "# third side of right-angled triangle from two given sides"
   ]
  },
  {
   "cell_type": "code",
   "execution_count": 26,
   "id": "07563eff",
   "metadata": {},
   "outputs": [
    {
     "name": "stdout",
     "output_type": "stream",
     "text": [
      "Enter base:10\n",
      "Enter Height:6.5\n",
      "Enter angle:70\n",
      "Hypotenuse = 11.926860441876563\n"
     ]
    }
   ],
   "source": [
    "import math\n",
    "a = float(input(\"Enter base:\"))\n",
    "b = float(input(\"Enter Height:\"))\n",
    "x = float(input(\"Enter angle:\"))\n",
    "\n",
    "c = math.sqrt (a** 2 + b** 2)\n",
    "print (\"Hypotenuse =\",c)"
   ]
  },
  {
   "cell_type": "code",
   "execution_count": null,
   "id": "4d0f5908",
   "metadata": {},
   "outputs": [],
   "source": [
    "## Print the frequency of each of the characters present in a given string"
   ]
  },
  {
   "cell_type": "code",
   "execution_count": 32,
   "id": "3c9d5dd6",
   "metadata": {},
   "outputs": [
    {
     "name": "stdout",
     "output_type": "stream",
     "text": [
      "{'g': 2, 'o': 2, 'l': 1, 'e': 1}\n"
     ]
    }
   ],
   "source": [
    "def x_frequency (str1):\n",
    "    dict = {}\n",
    "    for i in str1:\n",
    "        keys = dict.keys()\n",
    "        if i in keys:\n",
    "            dict[i] += 1\n",
    "        else:\n",
    "            dict[i] = 1\n",
    "    return dict\n",
    "print (x_frequency('google'))"
   ]
  },
  {
   "cell_type": "code",
   "execution_count": 33,
   "id": "a5cb7ffe",
   "metadata": {},
   "outputs": [
    {
     "name": "stdout",
     "output_type": "stream",
     "text": [
      "{'a': 2, 'm': 1, 'z': 1, 'o': 1, 'n': 1, 'e': 1}\n"
     ]
    }
   ],
   "source": [
    "print (x_frequency('amazone'))"
   ]
  },
  {
   "cell_type": "code",
   "execution_count": 35,
   "id": "c0d9c14b",
   "metadata": {},
   "outputs": [
    {
     "name": "stdout",
     "output_type": "stream",
     "text": [
      "{'a': 4, 's': 4, 'd': 4, 'l': 4, 'k': 4, 'j': 4}\n"
     ]
    }
   ],
   "source": [
    "print (x_frequency('asdlkjasdlkjasdlkjasdlkj'))"
   ]
  },
  {
   "cell_type": "code",
   "execution_count": null,
   "id": "e9782def",
   "metadata": {},
   "outputs": [],
   "source": []
  }
 ],
 "metadata": {
  "kernelspec": {
   "display_name": "Python 3",
   "language": "python",
   "name": "python3"
  },
  "language_info": {
   "codemirror_mode": {
    "name": "ipython",
    "version": 3
   },
   "file_extension": ".py",
   "mimetype": "text/x-python",
   "name": "python",
   "nbconvert_exporter": "python",
   "pygments_lexer": "ipython3",
   "version": "3.8.8"
  }
 },
 "nbformat": 4,
 "nbformat_minor": 5
}
